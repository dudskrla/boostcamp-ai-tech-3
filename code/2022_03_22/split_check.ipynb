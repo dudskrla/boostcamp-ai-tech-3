{
 "cells": [
  {
   "cell_type": "markdown",
   "metadata": {},
   "source": [
    "# 참고 : https://dacon.io/codeshare/1773",
    "## train / valid split check"
   ]
  },
  {
   "cell_type": "code",
   "execution_count": 1,
   "metadata": {},
   "outputs": [
    {
     "name": "stdout",
     "output_type": "stream",
     "text": [
      "training data\n",
      "images: 3907\n",
      "annotations: 18628\n",
      "categories: 10\n"
     ]
    }
   ],
   "source": [
    "import json\n",
    "\n",
    "train_data = json.load(open('/opt/ml/detection/dataset/seed2022/train.json'))\n",
    "\n",
    "print('training data')\n",
    "print(f'images: {len(train_data[\"images\"])}')\n",
    "print(f'annotations: {len(train_data[\"annotations\"])}')\n",
    "print(f'categories: {len(train_data[\"categories\"])}')"
   ]
  },
  {
   "cell_type": "code",
   "execution_count": 2,
   "metadata": {},
   "outputs": [
    {
     "name": "stdout",
     "output_type": "stream",
     "text": [
      "validation data\n",
      "images: 976\n",
      "annotations: 4516\n",
      "categories: 10\n"
     ]
    }
   ],
   "source": [
    "val_data = json.load(open('/opt/ml/detection/dataset/seed2022/val.json'))\n",
    "\n",
    "print('validation data')\n",
    "print(f'images: {len(val_data[\"images\"])}')\n",
    "print(f'annotations: {len(val_data[\"annotations\"])}')\n",
    "print(f'categories: {len(val_data[\"categories\"])}')"
   ]
  }
 ],
 "metadata": {
  "kernelspec": {
   "display_name": "detection",
   "language": "python",
   "name": "detection"
  },
  "language_info": {
   "codemirror_mode": {
    "name": "ipython",
    "version": 3
   },
   "file_extension": ".py",
   "mimetype": "text/x-python",
   "name": "python",
   "nbconvert_exporter": "python",
   "pygments_lexer": "ipython3",
   "version": "3.7.11"
  },
  "orig_nbformat": 4
 },
 "nbformat": 4,
 "nbformat_minor": 2
}
