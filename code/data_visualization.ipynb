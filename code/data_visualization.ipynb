{
 "cells": [
  {
   "cell_type": "code",
   "execution_count": 79,
   "metadata": {},
   "outputs": [],
   "source": [
    "%matplotlib inline\n",
    "\n",
    "import numpy as np\n",
    "import skimage.io as io\n",
    "import matplotlib.pyplot as plt\n",
    "import os\n",
    "from ipywidgets import interact\n",
    "import matplotlib.patches as patches\n",
    "import seaborn as sns\n",
    "import ipywidgets as widgets\n",
    "from ipywidgets import *\n",
    "import pandas as pd\n",
    "\n",
    "import json"
   ]
  },
  {
   "cell_type": "code",
   "execution_count": 80,
   "metadata": {},
   "outputs": [],
   "source": [
    "root_path = '/opt/ml/input/data/boostcamp/images'\n",
    "anno_root = '/opt/ml/input/data/boostcamp/annotation.json'"
   ]
  },
  {
   "cell_type": "code",
   "execution_count": 81,
   "metadata": {},
   "outputs": [],
   "source": [
    "# UFO format\n",
    "UFO_anns = []\n",
    "\n",
    "with open(anno_root, 'r') as f:\n",
    "    train_json = json.load(f)\n",
    "    images = train_json['images']\n",
    "    images_df = pd.DataFrame.from_dict(images)\n",
    "\n",
    "image_id = list(images_df)\n",
    "\n",
    "fnames = [os.path.join(root_path, i) for i in image_id] # 이미지 정렬 순서 고려하기 위해, json 파일에서 image path 가져오기 \n",
    "\n",
    "for index, img_id in enumerate(image_id):\n",
    "    temp_anns = []\n",
    "\n",
    "    temp = images_df[f'{img_id}']\n",
    "    words = temp.loc['words']\n",
    "\n",
    "    for key in words.keys():\n",
    "        temp_ann = {}\n",
    "        temp_ann['image_id'] = img_id \n",
    "        temp_ann['id'] = index\n",
    "\n",
    "        word = words[key]\n",
    "        \n",
    "        # category id\n",
    "        if word['language'] is None: # 제외 영역\n",
    "            temp_ann['category_id'] = 2\n",
    "        elif 'ko' in word['language'] and 'en' in word['language']:\n",
    "            temp_ann['category_id'] = 4\n",
    "        elif 'ko' in word['language']:\n",
    "            temp_ann['category_id'] = 0\n",
    "        elif 'en' in word['language']:\n",
    "            temp_ann['category_id'] = 1\n",
    "        else :\n",
    "            temp_ann['category_id'] = 3\n",
    "\n",
    "\n",
    "        temp_ann['bbox'] = word['points']\n",
    "        temp_anns.append(temp_ann)\n",
    "    UFO_anns.append(temp_anns)"
   ]
  },
  {
   "cell_type": "code",
   "execution_count": 82,
   "metadata": {},
   "outputs": [],
   "source": [
    "lang = {0 : 'ko', 1 : 'en', 2: 'Except', 3:'others', 4:'ko and en'}"
   ]
  },
  {
   "cell_type": "code",
   "execution_count": 83,
   "metadata": {},
   "outputs": [
    {
     "data": {
      "application/vnd.jupyter.widget-view+json": {
       "model_id": "dea26c671ff54eeeb5818c5cc658848a",
       "version_major": 2,
       "version_minor": 0
      },
      "text/plain": [
       "interactive(children=(IntSlider(value=1, description='idx', max=1287), IntSlider(value=5, description='cls_id'…"
      ]
     },
     "metadata": {},
     "output_type": "display_data"
    }
   ],
   "source": [
    "palette = sns.color_palette('bright')\n",
    "img_save_dir = '/opt/ml/wrong_img'\n",
    "os.makedirs(img_save_dir, exist_ok=True)\n",
    "\n",
    "img_name_list = [img.split(\"/\")[-1][:-4] for img in fnames]\n",
    "\n",
    "@interact(idx=(0, len(fnames)-1), cls_id=(0, 5))\n",
    "def showImg(idx=1, cls_id=5):\n",
    "    fig, ax = plt.subplots(dpi=200)\n",
    "    img = io.imread(fnames[idx])\n",
    "\n",
    "    anns = UFO_anns[idx]\n",
    "\n",
    "    ax.imshow(img)\n",
    "    for ann in anns:\n",
    "        ann_id = ann['id']\n",
    "        class_idx = ann['category_id']\n",
    "\n",
    "        ax.set_title(f\"{img_name_list[idx]}\", fontsize=7)\n",
    "\n",
    "        # 축 제거 \n",
    "        ax.set_xticks([])\n",
    "        ax.set_yticks([])\n",
    "        for pos in ['right', 'top', 'bottom', 'left']:\n",
    "            ax.spines[pos].set_visible(False)\n",
    "\n",
    "        points = np.array(ann['bbox'])\n",
    "\n",
    "        # bbox 시각화 \n",
    "        if(class_idx == cls_id or cls_id == 5):\n",
    "            color = palette[class_idx]\n",
    "            ax.add_patch(\n",
    "                patches.Polygon(\n",
    "                    points,\n",
    "                    closed=True,\n",
    "                    edgecolor=color,\n",
    "                    fill=False,\n",
    "                    ),\n",
    "                )\n",
    "\n",
    "            x, y = points[-1]\n",
    "\n",
    "            text_y = y-15 if y>15 else y+15 \n",
    "            plt_text = ax.text(x+8,text_y, f'{lang[class_idx]}_{ann_id}', color='white', fontsize='3', weight='semibold', backgroundcolor=color)\n",
    "            plt_text.set_bbox(dict(\n",
    "                facecolor=palette[class_idx],  # background color\n",
    "                alpha=0.6,  # background alpha\n",
    "                edgecolor='none',  # border color\n",
    "                pad=2\n",
    "            ))"
   ]
  }
 ],
 "metadata": {
  "interpreter": {
   "hash": "d4d1e4263499bec80672ea0156c357c1ee493ec2b1c70f0acce89fc37c4a6abe"
  },
  "kernelspec": {
   "display_name": "Python 3.8.5 ('base')",
   "language": "python",
   "name": "python3"
  },
  "language_info": {
   "codemirror_mode": {
    "name": "ipython",
    "version": 3
   },
   "file_extension": ".py",
   "mimetype": "text/x-python",
   "name": "python",
   "nbconvert_exporter": "python",
   "pygments_lexer": "ipython3",
   "version": "3.8.5"
  },
  "orig_nbformat": 4
 },
 "nbformat": 4,
 "nbformat_minor": 2
}
