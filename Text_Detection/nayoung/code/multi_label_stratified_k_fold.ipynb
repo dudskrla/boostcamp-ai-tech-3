{
 "cells": [
  {
   "cell_type": "code",
   "execution_count": 17,
   "metadata": {},
   "outputs": [],
   "source": [
    "from iterstrat.ml_stratifiers import MultilabelStratifiedKFold\n",
    "    \n",
    "import os\n",
    "import json\n",
    "import argparse\n",
    "import numpy as np\n",
    "import pandas as pd\n",
    "from tqdm import tqdm"
   ]
  },
  {
   "cell_type": "code",
   "execution_count": 18,
   "metadata": {},
   "outputs": [],
   "source": [
    "#get data\n",
    "nfold = 5\n",
    "seed = 2022\n",
    "data_root = '/opt/ml/input/data/ICDAR17_Korean/images'\n",
    "anno_root = '/opt/ml/input/data/ICDAR17_Korean/ufo/train.json'"
   ]
  },
  {
   "cell_type": "code",
   "execution_count": 19,
   "metadata": {},
   "outputs": [],
   "source": [
    "categories = {'ko': 0, 'en': 1}"
   ]
  },
  {
   "cell_type": "code",
   "execution_count": 20,
   "metadata": {},
   "outputs": [],
   "source": [
    "with open(anno_root, 'r') as f:\n",
    "    train_json = json.load(f)\n",
    "    images = train_json['images']\n",
    "    images_df = pd.DataFrame.from_dict(images)\n",
    "\n",
    "languages = []\n",
    "words_df = images_df.loc['words']\n",
    "\n",
    "for index, img in enumerate(words_df):\n",
    "    for key in img.keys():\n",
    "        lang = {}\n",
    "        lang['image_id'] = index\n",
    "        lang['category_id'] = 0 if img[f'{key}']['language'] == ['ko'] else 1\n",
    "\n",
    "        languages.append(lang)"
   ]
  },
  {
   "cell_type": "code",
   "execution_count": 21,
   "metadata": {},
   "outputs": [
    {
     "name": "stderr",
     "output_type": "stream",
     "text": [
      "100%|██████████| 5/5 [00:02<00:00,  2.45it/s]"
     ]
    },
    {
     "name": "stdout",
     "output_type": "stream",
     "text": [
      "Done Make files\n"
     ]
    },
    {
     "name": "stderr",
     "output_type": "stream",
     "text": [
      "\n"
     ]
    }
   ],
   "source": [
    "x = images\n",
    "y = [[0] * len(categories) for _ in range(len(images))]\n",
    "\n",
    "for lang in languages:\n",
    "    y[lang['image_id']][lang['category_id']] += 1\n",
    "\n",
    "mskf = MultilabelStratifiedKFold(n_splits=nfold, shuffle=True, random_state=seed)\n",
    "\n",
    "path = './multi_label_stratified_k_fold'\n",
    "\n",
    "if not os.path.exists(path):\n",
    "    os.mkdir(path)\n",
    "\n",
    "for idx, (train_index, val_index) in tqdm(enumerate(mskf.split(x, y)), total=nfold):\n",
    "    train_dict = dict()\n",
    "    val_dict = dict()\n",
    "\n",
    "    train_dict['images'] = train_json['images']\n",
    "    val_dict['images'] = train_json['images']\n",
    "\n",
    "    temp_train = {}\n",
    "    for index in train_index:\n",
    "        temp = {}\n",
    "        image = np.array(list(images.items()))[index]\n",
    "        key = image[0]\n",
    "        value = image[1] \n",
    "\n",
    "        temp[key] = value\n",
    "        temp_train.update(temp)\n",
    "    train_dict['images'] = temp_train\n",
    "\n",
    "    temp_val = {}\n",
    "    for index in val_index:\n",
    "        temp = {}\n",
    "        image = np.array(list(images.items()))[index]\n",
    "        key = image[0]\n",
    "        value = image[1] \n",
    "\n",
    "        temp[key] = value\n",
    "        temp_val.update(temp)\n",
    "    val_dict['images'] = temp_val\n",
    "\n",
    "    train_dir = os.path.join(path, f'cv_train_{idx + 1}.json')\n",
    "    val_dir = os.path.join(path, f'cv_val_{idx + 1}.json')\n",
    "    with open(train_dir, 'w') as train_file:\n",
    "        json.dump(train_dict, train_file)\n",
    "\n",
    "    with open(val_dir, 'w') as val_file:\n",
    "        json.dump(val_dict, val_file)\n",
    "\n",
    "print(\"Done Make files\")"
   ]
  }
 ],
 "metadata": {
  "interpreter": {
   "hash": "d4d1e4263499bec80672ea0156c357c1ee493ec2b1c70f0acce89fc37c4a6abe"
  },
  "kernelspec": {
   "display_name": "Python 3.8.5 ('base')",
   "language": "python",
   "name": "python3"
  },
  "language_info": {
   "codemirror_mode": {
    "name": "ipython",
    "version": 3
   },
   "file_extension": ".py",
   "mimetype": "text/x-python",
   "name": "python",
   "nbconvert_exporter": "python",
   "pygments_lexer": "ipython3",
   "version": "3.8.5"
  },
  "orig_nbformat": 4
 },
 "nbformat": 4,
 "nbformat_minor": 2
}
