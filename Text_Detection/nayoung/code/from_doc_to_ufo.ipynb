{
 "cells": [
  {
   "cell_type": "code",
   "execution_count": 25,
   "metadata": {},
   "outputs": [],
   "source": [
    "import pandas as pd\n",
    "import os, glob, json\n",
    "import tqdm"
   ]
  },
  {
   "cell_type": "code",
   "execution_count": 26,
   "metadata": {},
   "outputs": [],
   "source": [
    "anno_root = '/opt/ml/input/data/documents/annotations'\n",
    "img_root = '/opt/ml/input/data/documents/images'\n",
    "file_list = sorted(glob.glob(os.path.join(anno_root, '*.json')))\n",
    "jpg_file_name = glob.glob(os.path.join(img_root, '*.jpg'))\n",
    "JPG_file_name = glob.glob(os.path.join(img_root, '*.JPG'))\n",
    "\n",
    "image_file_dir = sorted(jpg_file_name + JPG_file_name)\n",
    "image_file_name = [img.split(\"/\")[-1] for img in image_file_dir]"
   ]
  },
  {
   "cell_type": "code",
   "execution_count": 27,
   "metadata": {},
   "outputs": [],
   "source": [
    "# 한글 / 영어 / 숫자 판단\n",
    "def check_kor_eng(text : str):\n",
    "    kor, eng = 0, 0\n",
    "\n",
    "    for c in text:\n",
    "        if ord('가') <= ord(c) <= ord('힣'):\n",
    "            kor += 1\n",
    "        elif ord('a') <= ord(c.lower()) <= ord('z'):\n",
    "            eng += 1\n",
    "    \n",
    "    answer = []\n",
    "    if kor > 0:\n",
    "        answer.append('ko')\n",
    "    if eng > 0:\n",
    "        answer.append('en')\n",
    "    \n",
    "    return answer"
   ]
  },
  {
   "cell_type": "code",
   "execution_count": 28,
   "metadata": {},
   "outputs": [],
   "source": [
    "# convert to UFO format\n",
    "temp_images = {}\n",
    "\n",
    "for i, file in enumerate(tdqm(file_list)):\n",
    "    anno = {}\n",
    "\n",
    "    with open(file, 'r') as f:\n",
    "        train_json = json.load(f)\n",
    "        images = train_json['images']\n",
    "        annotations = train_json['annotations']\n",
    "\n",
    "        images_df = pd.DataFrame.from_dict(images)\n",
    "        annotations_df = pd.DataFrame.from_dict(annotations)\n",
    "\n",
    "        temp_anno = {}\n",
    "\n",
    "        temp_anno['img_h'] = int(images_df['image.height'].values)\n",
    "        temp_anno['img_w'] = int(images_df['image.width'].values)\n",
    "\n",
    "        word = {}\n",
    "        for index in annotations_df.index:\n",
    "            temp_word = {}\n",
    "\n",
    "            row = annotations_df.loc[index]\n",
    "\n",
    "            idx = int(row['id'])\n",
    "            transcription = row['annotation.text']\n",
    "            illegibility = False\n",
    "            orientation = 'Horizontal'\n",
    "            word_tags = 'null'\n",
    "\n",
    "            language = check_kor_eng(transcription)\n",
    "\n",
    "            x, y, w, h = row['annotation.bbox']\n",
    "\n",
    "            points = [[x, y], [x+w, y], [x+w, y+h], [x, y+h]]\n",
    "\n",
    "            temp_word['points'] = points\n",
    "            temp_word['transcription'] = transcription\n",
    "            temp_word['language'] = language\n",
    "            temp_word['illegibility'] = illegibility\n",
    "            temp_word['orientation'] = orientation\n",
    "            temp_word['word_tags'] = word_tags\n",
    "\n",
    "            word[idx] = temp_word\n",
    "\n",
    "\n",
    "        temp_anno['words'] = word\n",
    "        temp_anno['tags'] = None\n",
    "\n",
    "        img_name = image_file_name[i]\n",
    "\n",
    "        anno[f'{img_name}'] = temp_anno\n",
    "\n",
    "    temp_images.update(anno)\n",
    "    \n",
    "UFO_ann = {}\n",
    "UFO_ann['images'] = temp_images"
   ]
  },
  {
   "cell_type": "code",
   "execution_count": null,
   "metadata": {},
   "outputs": [],
   "source": [
    "file_path = \"/opt/ml/input/data/documents/ufo/train.json\"\n",
    "\n",
    "with open(file_path, 'w', encoding='utf-8') as file:\n",
    "    json.dump(UFO_ann, file, indent=\"\\t\")"
   ]
  }
 ],
 "metadata": {
  "interpreter": {
   "hash": "d4d1e4263499bec80672ea0156c357c1ee493ec2b1c70f0acce89fc37c4a6abe"
  },
  "kernelspec": {
   "display_name": "Python 3.8.5 ('base')",
   "language": "python",
   "name": "python3"
  },
  "language_info": {
   "codemirror_mode": {
    "name": "ipython",
    "version": 3
   },
   "file_extension": ".py",
   "mimetype": "text/x-python",
   "name": "python",
   "nbconvert_exporter": "python",
   "pygments_lexer": "ipython3",
   "version": "3.8.5"
  },
  "orig_nbformat": 4
 },
 "nbformat": 4,
 "nbformat_minor": 2
}
