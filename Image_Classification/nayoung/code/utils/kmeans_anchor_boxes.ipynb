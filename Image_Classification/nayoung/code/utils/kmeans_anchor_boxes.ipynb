{
 "cells": [
  {
   "cell_type": "code",
   "execution_count": 3,
   "id": "5402744f-62a2-4afc-8dbb-73ae3a77b8ec",
   "metadata": {},
   "outputs": [],
   "source": [
    "from kmeans import kmeans, avg_iou\n",
    "import json\n",
    "import numpy as np"
   ]
  },
  {
   "cell_type": "code",
   "execution_count": 4,
   "id": "0a7a66ab-1ebb-4fa5-87da-acf3b4ec3172",
   "metadata": {},
   "outputs": [],
   "source": [
    "with open('/opt/ml/detection/dataset/train.json', 'r') as f:\n",
    "    data = json.load(f)\n",
    "annotations = data['annotations']"
   ]
  },
  {
   "cell_type": "code",
   "execution_count": 5,
   "id": "769cb559-0d26-467f-b33a-96c74684250d",
   "metadata": {},
   "outputs": [],
   "source": [
    "dataset=[]"
   ]
  },
  {
   "cell_type": "code",
   "execution_count": 6,
   "id": "f06d02e5-5082-44fa-a6ea-d6796e452d9c",
   "metadata": {},
   "outputs": [
    {
     "data": {
      "text/plain": [
       "{'image_id': 0,\n",
       " 'category_id': 0,\n",
       " 'area': 257301.66,\n",
       " 'bbox': [197.6, 193.7, 547.8, 469.7],\n",
       " 'iscrowd': 0,\n",
       " 'id': 0}"
      ]
     },
     "execution_count": 6,
     "metadata": {},
     "output_type": "execute_result"
    }
   ],
   "source": [
    "annotations[0]"
   ]
  },
  {
   "cell_type": "code",
   "execution_count": 7,
   "id": "cbcd5691-3f58-441a-8197-c40ea30aeb3f",
   "metadata": {},
   "outputs": [],
   "source": [
    "for anno in annotations:\n",
    "    _, _, w, h = anno['bbox']\n",
    "    dataset.append([w/1024, h/1024])"
   ]
  },
  {
   "cell_type": "code",
   "execution_count": 8,
   "id": "87ee8ee5-e437-4000-876a-705ec6b63ced",
   "metadata": {},
   "outputs": [
    {
     "name": "stdout",
     "output_type": "stream",
     "text": [
      "Iteration: 1\n",
      "Iteration: 2\n",
      "Iteration: 3\n",
      "Iteration: 4\n",
      "Iteration: 5\n",
      "Iteration: 6\n",
      "Iteration: 7\n",
      "Iteration: 8\n",
      "Iteration: 9\n",
      "Iteration: 10\n",
      "Iteration: 11\n",
      "Iteration: 12\n",
      "Iteration: 13\n",
      "Iteration: 14\n",
      "Iteration: 15\n",
      "Iteration: 16\n",
      "Iteration: 17\n",
      "Iteration: 18\n",
      "Iteration: 19\n",
      "Iteration: 20\n",
      "Iteration: 21\n",
      "Iteration: 22\n",
      "Iteration: 23\n",
      "Iteration: 24\n",
      "Iteration: 25\n",
      "Iteration: 26\n",
      "Iteration: 27\n",
      "Iteration: 28\n",
      "Iteration: 29\n",
      "Iteration: 30\n",
      "Iteration: 31\n",
      "Iteration: 32\n",
      "Iteration: 33\n",
      "Iteration: 34\n",
      "Iteration: 35\n",
      "Iteration: 36\n",
      "Iteration: 37\n",
      "Iteration: 38\n",
      "Iteration: 39\n",
      "Iteration: 40\n",
      "Iteration: 41\n",
      "Iteration: 42\n",
      "Iteration: 43\n",
      "Iteration: 44\n",
      "Iteration: 45\n",
      "Iteration: 46\n",
      "Iteration: 47\n",
      "Iteration: 48\n",
      "Iteration: 49\n",
      "Iteration: 50\n",
      "Iteration: 51\n",
      "Iteration: 52\n",
      "Iteration: 53\n",
      "Iteration: 54\n",
      "Iteration: 55\n",
      "Iteration: 56\n",
      "Iteration: 57\n",
      "Iteration: 58\n",
      "Iteration: 59\n",
      "Iteration: 60\n",
      "Iteration: 61\n",
      "Iteration: 62\n",
      "Iteration: 63\n",
      "Iteration: 64\n",
      "Iteration: 65\n",
      "Iteration: 66\n",
      "Iteration: 67\n",
      "Iteration: 68\n",
      "Iteration: 69\n",
      "Iteration: 70\n",
      "Iteration: 71\n",
      "Iteration: 72\n",
      "Iteration: 73\n",
      "Iteration: 74\n",
      "Iteration: 75\n",
      "Iteration: 76\n",
      "Iteration: 77\n",
      "Iteration: 78\n",
      "Iteration: 79\n",
      "Iteration: 80\n",
      "Iteration: 81\n",
      "Iteration: 82\n",
      "Iteration: 83\n",
      "Iteration: 84\n",
      "Iteration: 85\n",
      "Iteration: 86\n",
      "Iteration: 87\n",
      "Iteration: 88\n",
      "Iteration: 89\n",
      "Iteration: 90\n",
      "Iteration: 91\n",
      "Iteration: 92\n",
      "Iteration: 93\n",
      "Iteration: 94\n",
      "Iteration: 95\n",
      "Iteration: 96\n",
      "Iteration: 97\n",
      "Iteration: 98\n",
      "Iteration: 99\n",
      "Iteration: 100\n",
      "Iteration: 101\n",
      "Iteration: 102\n",
      "Iteration: 103\n",
      "Iteration: 104\n",
      "Iteration: 105\n",
      "Iteration: 106\n",
      "Iteration: 107\n",
      "Iteration: 108\n",
      "Iteration: 109\n",
      "Iteration: 110\n",
      "Iteration: 111\n",
      "Iteration: 112\n",
      "Iteration: 113\n",
      "Iteration: 114\n",
      "Iteration: 115\n",
      "Iteration: 116\n",
      "Iteration: 117\n",
      "Iteration: 118\n"
     ]
    }
   ],
   "source": [
    "data = np.array(dataset)\n",
    "out = kmeans(data, k=10) # k 늘리기 -> anchor ratio 개수를 늘림"
   ]
  },
  {
   "cell_type": "code",
   "execution_count": 9,
   "id": "cc23d2d1-e2dc-4fe3-889b-a38919da2a3c",
   "metadata": {},
   "outputs": [
    {
     "name": "stdout",
     "output_type": "stream",
     "text": [
      "Accuracy: 68.13%\n"
     ]
    }
   ],
   "source": [
    "print(\"Accuracy: {:.2f}%\".format(avg_iou(data, out) * 100))"
   ]
  },
  {
   "cell_type": "code",
   "execution_count": 10,
   "id": "63a26c22-142f-4369-8aa9-22620059a533",
   "metadata": {},
   "outputs": [
    {
     "name": "stdout",
     "output_type": "stream",
     "text": [
      "Boxes:\n",
      " [[0.18007813 0.26689453]\n",
      " [0.17929687 0.10986328]\n",
      " [0.05893555 0.08666992]\n",
      " [0.04453125 0.0390625 ]\n",
      " [0.45234375 0.31914063]\n",
      " [0.10751953 0.05576172]\n",
      " [0.30058594 0.18603516]\n",
      " [0.28027344 0.44970703]\n",
      " [0.09951172 0.16699219]\n",
      " [0.61000977 0.59755859]]\n"
     ]
    }
   ],
   "source": [
    "print(\"Boxes:\\n {}\".format(out))"
   ]
  },
  {
   "cell_type": "code",
   "execution_count": 11,
   "id": "f567e791-6c66-4c39-9c86-20765d9178e5",
   "metadata": {},
   "outputs": [
    {
     "name": "stdout",
     "output_type": "stream",
     "text": [
      "Ratios:\n",
      " [0.6, 0.62, 0.67, 0.68, 1.02, 1.14, 1.42, 1.62, 1.63, 1.93]\n"
     ]
    }
   ],
   "source": [
    "ratios = np.around(out[:, 0] / out[:, 1], decimals=2).tolist()\n",
    "print(\"Ratios:\\n {}\".format(sorted(ratios)))\n",
    "\n",
    "[0.6, 0.7, 1.0, 1.2, 1.4, 1.65, 1.9]\n"
   ]
  }
 ],
 "metadata": {
  "kernelspec": {
   "display_name": "detection",
   "language": "python",
   "name": "detection"
  }
 },
 "nbformat": 4,
 "nbformat_minor": 5
}
